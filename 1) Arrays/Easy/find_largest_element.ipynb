{
 "cells": [
  {
   "cell_type": "markdown",
   "id": "353c9210-33d8-4495-a3f5-aa5ed4a4acae",
   "metadata": {},
   "source": [
    "**Given an array arr[]. The task is to find the largest element and return it.**\n",
    "\n",
    "Examples:\n",
    "\n",
    "Input: arr[] = [1, 8, 7, 56, 90] Output: 90 Explanation: The largest element of the given array is 90. Input: arr[] = [5, 5, 5, 5] Output: 5 Explanation: The largest element of the given array is 5. Input: arr[] = [10] Output: 10 Explanation: There is only one element which is the largest.\n",
    "\n",
    "**Constraints: 1 <= arr.size()<= 106 0 <= arr[i] <= 106**"
   ]
  },
  {
   "cell_type": "code",
   "execution_count": 1,
   "id": "351f4879-06e9-46c8-a339-946eeb41ee4c",
   "metadata": {},
   "outputs": [],
   "source": [
    "class Solution:\n",
    "    def largest(self, arr):\n",
    "        max_num = arr[0]\n",
    "        for num in arr:\n",
    "            if num > max_num:\n",
    "                max_num = num\n",
    "        return max_num"
   ]
  },
  {
   "cell_type": "code",
   "execution_count": 2,
   "id": "b51895df-25d4-4e22-81da-bb991c735191",
   "metadata": {},
   "outputs": [
    {
     "name": "stdout",
     "output_type": "stream",
     "text": [
      "90\n"
     ]
    }
   ],
   "source": [
    "sol = Solution()\n",
    "print(sol.largest([1, 8, 7, 56, 90]))"
   ]
  },
  {
   "cell_type": "code",
   "execution_count": null,
   "id": "a47c1e55-03e1-4b24-a43a-b167d824c437",
   "metadata": {},
   "outputs": [],
   "source": []
  }
 ],
 "metadata": {
  "kernelspec": {
   "display_name": "Python [conda env:base] *",
   "language": "python",
   "name": "conda-base-py"
  },
  "language_info": {
   "codemirror_mode": {
    "name": "ipython",
    "version": 3
   },
   "file_extension": ".py",
   "mimetype": "text/x-python",
   "name": "python",
   "nbconvert_exporter": "python",
   "pygments_lexer": "ipython3",
   "version": "3.12.7"
  }
 },
 "nbformat": 4,
 "nbformat_minor": 5
}
