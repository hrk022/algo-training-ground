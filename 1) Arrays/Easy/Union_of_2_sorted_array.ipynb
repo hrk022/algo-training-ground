{
 "cells": [
  {
   "cell_type": "markdown",
   "id": "ed0c7cc2-c977-46ae-86ab-af01ae9b7343",
   "metadata": {},
   "source": [
    "**Given two sorted arrays a[] and b[], where each array may contain duplicate elements , the task is to return the elements in the union of the two arrays in sorted order.**\n",
    "\n",
    "Union of two arrays can be defined as the set containing distinct common elements that are present in either of the arrays.\n",
    "Examples:"
   ]
  },
  {
   "cell_type": "code",
   "execution_count": 1,
   "id": "eb3a1aa3-49df-4055-b6c9-edf7e579cd59",
   "metadata": {},
   "outputs": [],
   "source": [
    "class Solution:\n",
    "    \n",
    "    # Function to return a list containing the union of the two arrays.\n",
    "    def findUnion(self, a, b):\n",
    "        n = len(a)\n",
    "        m = len(b)\n",
    "        result = []\n",
    "        i = j = 0\n",
    "        \n",
    "        while i < n and j < m:\n",
    "            if a[i] < b[j]:\n",
    "                if len(result) == 0 or result[-1] != a[i]:\n",
    "                    result.append(a[i])\n",
    "                i += 1\n",
    "            elif a[i] > b[j]:\n",
    "                if len(result) == 0 or result[-1] != b[j]:\n",
    "                    result.append(b[j])\n",
    "                j += 1\n",
    "            else:  # a[i] == b[j]\n",
    "                if len(result) == 0 or result[-1] != a[i]:\n",
    "                    result.append(a[i])\n",
    "                i += 1\n",
    "                j += 1\n",
    "\n",
    "        # Remaining elements in a[]\n",
    "        while i < n:\n",
    "            if len(result) == 0 or result[-1] != a[i]:\n",
    "                result.append(a[i])\n",
    "            i += 1\n",
    "\n",
    "        # Remaining elements in b[]\n",
    "        while j < m:\n",
    "            if len(result) == 0 or result[-1] != b[j]:\n",
    "                result.append(b[j])\n",
    "            j += 1\n",
    "        \n",
    "        return result\n"
   ]
  },
  {
   "cell_type": "code",
   "execution_count": null,
   "id": "00dddee5-d354-4cf1-b135-73187b6154e5",
   "metadata": {},
   "outputs": [],
   "source": []
  }
 ],
 "metadata": {
  "kernelspec": {
   "display_name": "Python [conda env:base] *",
   "language": "python",
   "name": "conda-base-py"
  },
  "language_info": {
   "codemirror_mode": {
    "name": "ipython",
    "version": 3
   },
   "file_extension": ".py",
   "mimetype": "text/x-python",
   "name": "python",
   "nbconvert_exporter": "python",
   "pygments_lexer": "ipython3",
   "version": "3.12.7"
  }
 },
 "nbformat": 4,
 "nbformat_minor": 5
}
