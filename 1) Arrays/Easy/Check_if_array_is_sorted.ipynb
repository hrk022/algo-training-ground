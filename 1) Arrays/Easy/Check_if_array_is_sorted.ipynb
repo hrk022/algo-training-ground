{
 "cells": [
  {
   "cell_type": "markdown",
   "id": "be92eb1d-185c-4218-935c-a1c919b53bd0",
   "metadata": {},
   "source": [
    "**Given an array arr[], check whether it is sorted in non-decreasing order. Return true if it is sorted otherwise false.**\n",
    "\n",
    "Examples:\n",
    "\n",
    "Input: arr[] = [10, 20, 30, 40, 50]\n",
    "Output: true\n",
    "Explanation: The given array is sorted.\n",
    "Input: arr[] = [90, 80, 100, 70, 40, 30]\n",
    "Output: false\n",
    "Explanation: The given array is not sorted."
   ]
  },
  {
   "cell_type": "code",
   "execution_count": 5,
   "id": "7c4911ab-cba7-419c-807e-877671dc3673",
   "metadata": {},
   "outputs": [
    {
     "name": "stdout",
     "output_type": "stream",
     "text": [
      "True\n"
     ]
    }
   ],
   "source": [
    "sol = Solution()\n",
    "print(sol.arraySortedOrNot([1,2,3,4,5]))"
   ]
  },
  {
   "cell_type": "code",
   "execution_count": null,
   "id": "a5a4bc44-d2c4-4a1e-9a47-9c124d95aa25",
   "metadata": {},
   "outputs": [],
   "source": []
  }
 ],
 "metadata": {
  "kernelspec": {
   "display_name": "Python [conda env:base] *",
   "language": "python",
   "name": "conda-base-py"
  },
  "language_info": {
   "codemirror_mode": {
    "name": "ipython",
    "version": 3
   },
   "file_extension": ".py",
   "mimetype": "text/x-python",
   "name": "python",
   "nbconvert_exporter": "python",
   "pygments_lexer": "ipython3",
   "version": "3.12.7"
  }
 },
 "nbformat": 4,
 "nbformat_minor": 5
}
