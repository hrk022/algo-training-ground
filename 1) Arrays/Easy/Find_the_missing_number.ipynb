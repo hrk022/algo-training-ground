{
 "cells": [
  {
   "cell_type": "markdown",
   "id": "0d429a12-f46b-4431-a6dd-6ed9f205d49f",
   "metadata": {},
   "source": [
    "**268. Missing Number\n",
    "Given an array nums containing n distinct numbers in the range [0, n], return the only number in the range that is missing from the array.**\n",
    "\n",
    "Example 1:\n",
    "\n",
    "Input: nums = [3,0,1]\n",
    "\n",
    "Output: 2"
   ]
  },
  {
   "cell_type": "code",
   "execution_count": 1,
   "id": "0a2d5f21-17df-4a01-a0bf-14e6f9965a3a",
   "metadata": {},
   "outputs": [],
   "source": [
    "class Solution:\n",
    "    def missingNumber(self, nums):\n",
    "        n = len(nums)\n",
    "        expected = n*(n + 1)//2\n",
    "        actual = sum(nums)\n",
    "        return expected - actual"
   ]
  },
  {
   "cell_type": "code",
   "execution_count": 2,
   "id": "70a516c3-22dd-40c6-b162-426f06c8c4c7",
   "metadata": {},
   "outputs": [
    {
     "name": "stdout",
     "output_type": "stream",
     "text": [
      "2\n"
     ]
    }
   ],
   "source": [
    "sol = Solution()\n",
    "print(sol.missingNumber([0,1,3]))"
   ]
  },
  {
   "cell_type": "code",
   "execution_count": null,
   "id": "aead85d0-2abf-4df4-8c9b-e7fd10216737",
   "metadata": {},
   "outputs": [],
   "source": []
  }
 ],
 "metadata": {
  "kernelspec": {
   "display_name": "Python [conda env:base] *",
   "language": "python",
   "name": "conda-base-py"
  },
  "language_info": {
   "codemirror_mode": {
    "name": "ipython",
    "version": 3
   },
   "file_extension": ".py",
   "mimetype": "text/x-python",
   "name": "python",
   "nbconvert_exporter": "python",
   "pygments_lexer": "ipython3",
   "version": "3.12.7"
  }
 },
 "nbformat": 4,
 "nbformat_minor": 5
}
