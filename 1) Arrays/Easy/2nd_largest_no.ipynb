{
 "cells": [
  {
   "cell_type": "code",
   "execution_count": 3,
   "id": "b4f01e63-53cc-4331-adfa-5ada2fd5e35b",
   "metadata": {},
   "outputs": [],
   "source": [
    "class Solution:\n",
    "    def secondlargest(self, arr):\n",
    "        n = len(arr)\n",
    "        if n < 2:\n",
    "            return -1\n",
    "\n",
    "        sec = largest = float(\"-inf\")\n",
    "        for num in arr:\n",
    "            if num > largest:\n",
    "                sec = largest\n",
    "                largest = num\n",
    "            elif num > sec and num != largest:\n",
    "                sec = num\n",
    "        return sec if sec != float(\"-inf\") else -1"
   ]
  },
  {
   "cell_type": "code",
   "execution_count": 4,
   "id": "946a6f5e-93e5-4593-917d-a7ef5d4db5ac",
   "metadata": {},
   "outputs": [
    {
     "name": "stdout",
     "output_type": "stream",
     "text": [
      "87\n"
     ]
    }
   ],
   "source": [
    "sol = Solution()\n",
    "print(sol.secondlargest([75,34,22,99,87]))"
   ]
  },
  {
   "cell_type": "code",
   "execution_count": null,
   "id": "0e8eaa72-e30a-4301-a843-d5f253b65f87",
   "metadata": {},
   "outputs": [],
   "source": []
  }
 ],
 "metadata": {
  "kernelspec": {
   "display_name": "Python [conda env:base] *",
   "language": "python",
   "name": "conda-base-py"
  },
  "language_info": {
   "codemirror_mode": {
    "name": "ipython",
    "version": 3
   },
   "file_extension": ".py",
   "mimetype": "text/x-python",
   "name": "python",
   "nbconvert_exporter": "python",
   "pygments_lexer": "ipython3",
   "version": "3.12.7"
  }
 },
 "nbformat": 4,
 "nbformat_minor": 5
}
