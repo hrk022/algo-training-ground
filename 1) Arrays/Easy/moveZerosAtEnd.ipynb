{
 "cells": [
  {
   "cell_type": "markdown",
   "id": "fbaf6f2f-5d3f-4399-a984-2c54cf0e67cc",
   "metadata": {},
   "source": [
    "**283. Move Zeroes\n",
    "Given an integer array nums, move all 0's to the end of it while maintaining the relative order of the non-zero elements.\n",
    "Note that you must do this in-place without making a copy of the array.**\n",
    "\n",
    " \n",
    "\n",
    "Example 1:\n",
    "\n",
    "Input: nums = [0,1,0,3,12]\n",
    "Output: [1,3,12,0,0]\n",
    "\n",
    "Example 2:\n",
    "\n",
    "Input: nums = [0]\n",
    "Output: [0]\n",
    " \n",
    "\n",
    "**Constraints:\n",
    "1 <= nums.length <= 104\n",
    "-231 <= nums[i] <= 231 - 1**"
   ]
  },
  {
   "cell_type": "code",
   "execution_count": 3,
   "id": "77e4d84c-df96-4276-8035-2b398779f7d5",
   "metadata": {},
   "outputs": [],
   "source": [
    "class Solution(object):\n",
    "    def moveZeroes(self, nums):\n",
    "        n = len(nums)\n",
    "        temp = []\n",
    "        for i in range(n):\n",
    "            if nums[i] != 0:\n",
    "                temp.append(nums[i])\n",
    "        n2 = len(temp)\n",
    "        for i in range(n2):\n",
    "            nums[i] = temp[i]\n",
    "        for i in range(n2,n):\n",
    "            nums[i] = 0"
   ]
  },
  {
   "cell_type": "code",
   "execution_count": 6,
   "id": "aeae3f12-d459-425f-907d-454b3c9b82ce",
   "metadata": {},
   "outputs": [
    {
     "name": "stdout",
     "output_type": "stream",
     "text": [
      "[1, 8, 7, 56, 90, 0]\n"
     ]
    }
   ],
   "source": [
    "nums = [1, 8, 7, 0, 56, 90]\n",
    "sol = Solution()\n",
    "sol.moveZeroes(nums)\n",
    "print(nums)  # Output: [1, 8, 7, 56, 90, 0]\n"
   ]
  },
  {
   "cell_type": "code",
   "execution_count": null,
   "id": "5ab0ff31-b37e-4ef6-90de-ea9451c60d7d",
   "metadata": {},
   "outputs": [],
   "source": []
  }
 ],
 "metadata": {
  "kernelspec": {
   "display_name": "Python [conda env:base] *",
   "language": "python",
   "name": "conda-base-py"
  },
  "language_info": {
   "codemirror_mode": {
    "name": "ipython",
    "version": 3
   },
   "file_extension": ".py",
   "mimetype": "text/x-python",
   "name": "python",
   "nbconvert_exporter": "python",
   "pygments_lexer": "ipython3",
   "version": "3.12.7"
  }
 },
 "nbformat": 4,
 "nbformat_minor": 5
}
