{
 "cells": [
  {
   "cell_type": "markdown",
   "id": "7729a211-7882-4c0c-9241-08444c85b88f",
   "metadata": {},
   "source": [
    "**189. Rotate Array\n",
    "Given an integer array nums, rotate the array to the right by k steps, where k is non-negative.**\n",
    "\n",
    " \n",
    "\n",
    "Example 1:\n",
    "\n",
    "Input: nums = [1,2,3,4,5,6,7], k = 3\n",
    "Output: [5,6,7,1,2,3,4]\n",
    "Explanation:\n",
    "rotate 1 steps to the right: [7,1,2,3,4,5,6]\n",
    "rotate 2 steps to the right: [6,7,1,2,3,4,5]\n",
    "rotate 3 steps to the right: [5,6,7,1,2,3,4]\n",
    "Example 2:\n",
    "\n",
    "Input: nums = [-1,-100,3,99], k = 2\n",
    "Output: [3,99,-1,-100]\n",
    "Explanation: \n",
    "rotate 1 steps to the right: [99,-1,-100,3]\n",
    "rotate 2 steps to the right: [3,99,-1,-100]\n",
    " \n",
    "\n",
    "**Constraints:\n",
    "1 <= nums.length <= 105\n",
    "-231 <= nums[i] <= 231 - 1\n",
    "0 <= k <= 105**"
   ]
  },
  {
   "cell_type": "code",
   "execution_count": 3,
   "id": "1fe20abb-e16a-48af-969a-cf21d8317e11",
   "metadata": {},
   "outputs": [],
   "source": [
    "class Solution(object):\n",
    "    def rotate(self, nums, k):\n",
    "        n = len(nums)\n",
    "        k = k % n\n",
    "        nums.reverse()\n",
    "        nums[:k] = reversed(nums[:k])\n",
    "        nums[k:] = reversed(nums[k:])"
   ]
  },
  {
   "cell_type": "code",
   "execution_count": 7,
   "id": "de192ae4-9ae1-4d01-8e14-49e2704c4930",
   "metadata": {},
   "outputs": [
    {
     "name": "stdout",
     "output_type": "stream",
     "text": [
      "[56, 90, 1, 8, 7]\n"
     ]
    }
   ],
   "source": [
    "sol = Solution()\n",
    "nums = [1, 8, 7, 56, 90]\n",
    "sol.rotate(nums, 2)\n",
    "print(nums)  # Output: [56, 90, 1, 8, 7]\n"
   ]
  },
  {
   "cell_type": "code",
   "execution_count": null,
   "id": "32e65400-2f7e-48a5-82e4-b86605b3ca30",
   "metadata": {},
   "outputs": [],
   "source": []
  }
 ],
 "metadata": {
  "kernelspec": {
   "display_name": "Python [conda env:base] *",
   "language": "python",
   "name": "conda-base-py"
  },
  "language_info": {
   "codemirror_mode": {
    "name": "ipython",
    "version": 3
   },
   "file_extension": ".py",
   "mimetype": "text/x-python",
   "name": "python",
   "nbconvert_exporter": "python",
   "pygments_lexer": "ipython3",
   "version": "3.12.7"
  }
 },
 "nbformat": 4,
 "nbformat_minor": 5
}
